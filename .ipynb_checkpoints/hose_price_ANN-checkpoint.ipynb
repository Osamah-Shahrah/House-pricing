{
 "cells": [
  {
   "cell_type": "code",
   "execution_count": 8,
   "id": "f7cc71dd-6eb6-4667-bb84-7750f3c75119",
   "metadata": {},
   "outputs": [
    {
     "ename": "ModuleNotFoundError",
     "evalue": "No module named 'matplotlib'",
     "output_type": "error",
     "traceback": [
      "\u001b[1;31m---------------------------------------------------------------------------\u001b[0m",
      "\u001b[1;31mModuleNotFoundError\u001b[0m                       Traceback (most recent call last)",
      "Cell \u001b[1;32mIn[8], line 3\u001b[0m\n\u001b[0;32m      1\u001b[0m \u001b[38;5;28;01mimport\u001b[39;00m \u001b[38;5;21;01mpandas\u001b[39;00m \u001b[38;5;28;01mas\u001b[39;00m \u001b[38;5;21;01mpd\u001b[39;00m\n\u001b[0;32m      2\u001b[0m \u001b[38;5;28;01mimport\u001b[39;00m \u001b[38;5;21;01mnumpy\u001b[39;00m \u001b[38;5;28;01mas\u001b[39;00m \u001b[38;5;21;01mnp\u001b[39;00m\n\u001b[1;32m----> 3\u001b[0m \u001b[38;5;28;01mimport\u001b[39;00m \u001b[38;5;21;01mmatplotlib\u001b[39;00m\u001b[38;5;21;01m.\u001b[39;00m\u001b[38;5;21;01mpyplot\u001b[39;00m \u001b[38;5;28;01mas\u001b[39;00m \u001b[38;5;21;01mplt\u001b[39;00m\n\u001b[0;32m      5\u001b[0m df\u001b[38;5;241m=\u001b[39mpd\u001b[38;5;241m.\u001b[39mread_csv(\u001b[38;5;124m\"\u001b[39m\u001b[38;5;124mkc_house_data.csv\u001b[39m\u001b[38;5;124m\"\u001b[39m)\n\u001b[0;32m      6\u001b[0m df\u001b[38;5;241m=\u001b[39mdf\u001b[38;5;241m.\u001b[39mdrop(\u001b[38;5;124m'\u001b[39m\u001b[38;5;124mid\u001b[39m\u001b[38;5;124m'\u001b[39m,axis\u001b[38;5;241m=\u001b[39m\u001b[38;5;241m1\u001b[39m)\n",
      "\u001b[1;31mModuleNotFoundError\u001b[0m: No module named 'matplotlib'"
     ]
    }
   ],
   "source": [
    "import pandas as pd\n",
    "import numpy as np\n",
    "import matplotlib.pyplot as plt\n",
    "\n",
    "df=pd.read_csv(\"kc_house_data.csv\")\n",
    "df=df.drop('id',axis=1)\n",
    "df['date']=pd.to_datetime(df['date'])\n",
    "df['month']=df['date'].apply(lambda date:date.month)\n",
    "df['year']=df['date'].apply(lambda date:date.year)\n",
    "df=df.drop('date',axis=1)\n",
    "df=df.drop('zipcode',axis=1)\n",
    "x=df.drop('price',axis=1)\n",
    "y=df['price']\n",
    "\n"
   ]
  },
  {
   "cell_type": "code",
   "execution_count": 8,
   "id": "8909b9c0-a1dd-40cb-8985-8cf3bd3423bb",
   "metadata": {},
   "outputs": [],
   "source": [
    "from sklearn.model_selection import train_test_split \n",
    "from sklearn.preprocessing import MinMaxScaler\n",
    "x_train,x_test,y_train,y_test=train_test_split(x,y,test_size=0.3,random_state=101)\n"
   ]
  },
  {
   "cell_type": "code",
   "execution_count": null,
   "id": "5ec285fa-a0a9-4c62-9101-d4059750b56d",
   "metadata": {},
   "outputs": [],
   "source": [
    "scaler=MinMaxScaler()\n",
    "x_train=scaler.fit_transform(x_train)\n",
    "x_test=scaler.fit_transform(x_test)\n",
    "from sklearn import metrics\n",
    "def print_evaluate(true,predicted,train=True):\n",
    "    mae=metrics.mean_absolute_error(true,predicted)\n",
    "    mse=metrics.mean_squared_error(true,predicted)\n",
    "    rmse=np.sqrt(metrics.mean_squared_error(true,predicted))\n",
    "    r2_square=metrics.r2_score(true,predicted)\n",
    "    if train:\n",
    "        print(\"Training Result\")\n",
    "        print('MAE:',mae)\n",
    "        print('MSE:',mse)\n",
    "        print('RMSE:',rmse)\n",
    "        print('R2 Square:',r2_square)\n",
    "    elif not train:\n",
    "        print(\"Testing Result\")\n",
    "        print('MAE:',mae)\n",
    "        print('MSE:',mse)\n",
    "        print('RMSE:',rmse)\n",
    "        print('R2 Square:',r2_square)\n",
    "        \n"
   ]
  },
  {
   "cell_type": "code",
   "execution_count": null,
   "id": "358fec8d-05b7-4edd-826e-bf5a854d5e22",
   "metadata": {},
   "outputs": [],
   "source": [
    "from tensorflow.keras.models import Sequential\n",
    "from tensorflow.keras.layers import Input,Dense,Activation,Dropout\n",
    "from tensorflow.keras.optimazers import Adam\n",
    "model=Sequential()\n",
    "\n",
    "model.add(Dense(Xtrain,shape[1],activation='relu'))\n",
    "model.add(Dense(32,aactivation='relu'))\n",
    "model.add(Dense(32,aactivation='relu'))\n",
    "model.add(Dense(32,aactivation='relu'))\n",
    "model.add(Dense(1))\n",
    "\n",
    "\n",
    "model.compile(optimizer=Adam(0.001),loss='mse')\n",
    "\n",
    "          "
   ]
  },
  {
   "cell_type": "code",
   "execution_count": 10,
   "id": "4f2e13e4-2f53-4166-b29a-4475abcf88b4",
   "metadata": {},
   "outputs": [
    {
     "name": "stdout",
     "output_type": "stream",
     "text": [
      "2.10.0\n"
     ]
    }
   ],
   "source": [
    "import tensorflow as tf\n",
    "print(tf.__version__)"
   ]
  },
  {
   "cell_type": "code",
   "execution_count": null,
   "id": "93073cfd-626c-4adb-99ed-6010f702bc12",
   "metadata": {},
   "outputs": [],
   "source": []
  }
 ],
 "metadata": {
  "kernelspec": {
   "display_name": "Python (tf)",
   "language": "python",
   "name": "tf"
  },
  "language_info": {
   "codemirror_mode": {
    "name": "ipython",
    "version": 3
   },
   "file_extension": ".py",
   "mimetype": "text/x-python",
   "name": "python",
   "nbconvert_exporter": "python",
   "pygments_lexer": "ipython3",
   "version": "3.10.13"
  }
 },
 "nbformat": 4,
 "nbformat_minor": 5
}
